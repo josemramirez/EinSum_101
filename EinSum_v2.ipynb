{
 "cells": [
  {
   "cell_type": "markdown",
   "source": [
    "# Medium Article EinSum 101"
   ],
   "metadata": {
    "collapsed": false,
    "pycharm": {
     "name": "#%% md\n"
    }
   }
  },
  {
   "cell_type": "code",
   "execution_count": 1,
   "outputs": [],
   "source": [
    "import numpy as np\n",
    "\n",
    "# Needed for plotting\n",
    "import matplotlib.colors\n",
    "import matplotlib.pyplot as plt\n",
    "from mpl_toolkits.mplot3d import Axes3D\n",
    "\n",
    "# Needed for generating classification, regression and clustering datasets\n",
    "import sklearn.datasets as dt\n",
    "import time\n",
    "\n",
    "# Needed for generating data from an existing dataset\n",
    "from sklearn.neighbors import KernelDensity\n",
    "from sklearn.model_selection import GridSearchCV\n",
    "\n",
    "# Define the seed so that results can be reproduced\n",
    "seed = 11"
   ],
   "metadata": {
    "collapsed": false,
    "pycharm": {
     "name": "#%%\n"
    }
   }
  },
  {
   "cell_type": "markdown",
   "source": [
    "# Generate synthetic data for the Article Einstein sumation"
   ],
   "metadata": {
    "collapsed": false,
    "pycharm": {
     "name": "#%% md\n"
    }
   }
  },
  {
   "cell_type": "code",
   "execution_count": 3,
   "outputs": [],
   "source": [
    "nxt=20; mxt=10000;\n",
    "x,y=dt.make_regression(n_samples=mxt,\n",
    "                         n_features=nxt,\n",
    "                         noise=1.,\n",
    "                         random_state=seed)"
   ],
   "metadata": {
    "collapsed": false,
    "pycharm": {
     "name": "#%%\n"
    }
   }
  },
  {
   "cell_type": "code",
   "execution_count": 4,
   "outputs": [
    {
     "name": "stdout",
     "output_type": "stream",
     "text": [
      "[[ 0.70337691  0.2969772  -0.78225739  0.17799388  0.79800857 -0.23823717\n",
      "  -2.23584554  0.12770769 -2.62683357  1.61649632 -0.17925845 -0.20374913\n",
      "   0.40714217  0.4300291  -0.86256594 -0.93513788  1.491888   -0.80705578\n",
      "  -1.47636098  0.2025032 ]\n",
      " [ 0.46297083  0.7633453   1.83827058  0.08042244 -1.24589307  1.29201206\n",
      "  -1.20765005  0.09046335 -2.23122465  0.70743713  0.27973486  1.08770228\n",
      "  -0.79272106  0.1253807   0.30836571 -1.66582064  0.13295684 -2.01710836\n",
      "  -0.3495766   0.43982148]\n",
      " [ 0.69465318 -0.30947095  2.0955184  -0.1740145   0.46141935 -0.68217633\n",
      "  -0.28336858  0.44160374  1.03420176 -0.22729636 -0.88705069  0.99080446\n",
      "   0.4426358  -0.25869569 -0.55067707 -0.92172586 -0.07936935 -0.15204604\n",
      "  -0.53820162 -0.1586966 ]\n",
      " [ 1.21037668  0.54382535 -1.04028118  1.21234078 -0.33732755 -1.05652187\n",
      "   0.5473492  -0.44086037  0.59071511  0.29256046  0.21599549  0.15820267\n",
      "  -0.62156586  0.77652336  0.88397169  0.5715961   0.00892571  0.09668563\n",
      "  -1.83566924 -0.17212756]\n",
      " [-0.78420364  0.84169248  0.18229132 -2.66447872  0.61391656 -0.86150608\n",
      "  -0.54079028  0.5916063  -0.24270954 -0.60156783 -1.44318368 -1.82507487\n",
      "   1.31232487 -0.12172052  1.64935838 -0.03326832 -0.78295071 -1.1650797\n",
      "   0.809048    0.65131246]]\n"
     ]
    }
   ],
   "source": [
    "print(x[:5])"
   ],
   "metadata": {
    "collapsed": false,
    "pycharm": {
     "name": "#%%\n"
    }
   }
  },
  {
   "cell_type": "code",
   "execution_count": 5,
   "outputs": [
    {
     "name": "stdout",
     "output_type": "stream",
     "text": [
      "[ -32.05307591  -97.89781786   57.19105773  163.73831492 -264.61844731]\n"
     ]
    }
   ],
   "source": [
    "print(y[:5])"
   ],
   "metadata": {
    "collapsed": false,
    "pycharm": {
     "name": "#%%\n"
    }
   }
  },
  {
   "cell_type": "code",
   "execution_count": 6,
   "outputs": [],
   "source": [
    "def sigmoid(z):\n",
    "    s = 1./(1.+np.exp(-z))\n",
    "    return s"
   ],
   "metadata": {
    "collapsed": false,
    "pycharm": {
     "name": "#%%\n"
    }
   }
  },
  {
   "cell_type": "code",
   "execution_count": 7,
   "outputs": [],
   "source": [
    "def cost_Class(X, Y, w, b, lr):\n",
    "    # FORWARD PROPAGATION (FROM X TO COST)\n",
    "    _,m = X.shape\n",
    "    # compute activation\n",
    "    hypotesis = np.dot(w.T,X)+b\n",
    "    A = sigmoid(hypotesis)\n",
    "    # loss\n",
    "    loss=(Y*np.log(A)+(1.-Y)*np.log(1.-A))\n",
    "    gradient = np.sum(np.dot(loss, X.T), axis=1)/m\n",
    "    w = w - lr*gradient\n",
    "    # compute cost\n",
    "    cost1 = -1/m * np.sum(loss, axis=1)     #\n",
    "    return cost1,w"
   ],
   "metadata": {
    "collapsed": false,
    "pycharm": {
     "name": "#%%\n"
    }
   }
  },
  {
   "cell_type": "code",
   "execution_count": 8,
   "outputs": [],
   "source": [
    "nap1=1; map1=mxt;\n",
    "nya=2; mya=nap1;\n",
    "mba=1;\n",
    "np.random.seed(1)"
   ],
   "metadata": {
    "collapsed": false,
    "pycharm": {
     "name": "#%%\n"
    }
   }
  },
  {
   "cell_type": "code",
   "execution_count": 9,
   "outputs": [
    {
     "name": "stdout",
     "output_type": "stream",
     "text": [
      "(20, 1) (10000, 20)\n"
     ]
    },
    {
     "data": {
      "text/plain": "(array([66.57731035]),\n array([[ 1.64403522],\n        [-0.59206656],\n        [-0.5084819 ],\n        [-1.05327877],\n        [ 0.88509749],\n        [-2.28184884],\n        [ 1.76450162],\n        [-0.74151704],\n        [ 0.33872895],\n        [-0.22968052],\n        [ 1.48179779],\n        [-2.04045085],\n        [-0.30272735],\n        [-0.3643645 ],\n        [ 1.1534593 ],\n        [-1.08020141],\n        [-0.15273835],\n        [-0.85816856],\n        [ 0.0619036 ],\n        [ 0.60250507]]))"
     },
     "execution_count": 9,
     "metadata": {},
     "output_type": "execute_result"
    }
   ],
   "source": [
    "w, b = np.random.randn(nxt,mba), np.random.randn(mba,mxt)\n",
    "xT=np.transpose(x)\n",
    "yT=np.transpose(y)\n",
    "print(w.shape,x.shape)\n",
    "#X, Y = np.array([[1.,2.,-1.],[3.,4.,-3.2]]), np.array([[1,0,1]])\n",
    "#%timeit cost_Class(xT, yT, w, b, 0.001)\n",
    "cost_Class(xT, yT, w, b, 0.001)"
   ],
   "metadata": {
    "collapsed": false,
    "pycharm": {
     "name": "#%%\n"
    }
   }
  },
  {
   "cell_type": "code",
   "execution_count": 10,
   "outputs": [
    {
     "name": "stdout",
     "output_type": "stream",
     "text": [
      "Cost = (array([66.57731035]), array([[ 1.64403522],\n",
      "       [-0.59206656],\n",
      "       [-0.5084819 ],\n",
      "       [-1.05327877],\n",
      "       [ 0.88509749],\n",
      "       [-2.28184884],\n",
      "       [ 1.76450162],\n",
      "       [-0.74151704],\n",
      "       [ 0.33872895],\n",
      "       [-0.22968052],\n",
      "       [ 1.48179779],\n",
      "       [-2.04045085],\n",
      "       [-0.30272735],\n",
      "       [-0.3643645 ],\n",
      "       [ 1.1534593 ],\n",
      "       [-1.08020141],\n",
      "       [-0.15273835],\n",
      "       [-0.85816856],\n",
      "       [ 0.0619036 ],\n",
      "       [ 0.60250507]]))\n"
     ]
    }
   ],
   "source": [
    "Jx=cost_Class(xT, yT, w, b, 0.001)\n",
    "# -1/m*  np.sum((  Y  *   np.log(A)  +  (1.-Y)     *       np.log(1.-A))          ,    axis=1)\n",
    "#        A^Y             +             (1-A)^(1-Y)\n",
    "# -- Entropy:   - q ln(p) - p ln(q)\n",
    "# -- Que proviene de aqui ..  - P = -  (p^q * q^p)\n",
    "print (\"Cost = \" + str(Jx))"
   ],
   "metadata": {
    "collapsed": false,
    "pycharm": {
     "name": "#%%\n"
    }
   }
  },
  {
   "cell_type": "markdown",
   "source": [
    "# Using EinsteinSum"
   ],
   "metadata": {
    "collapsed": false,
    "pycharm": {
     "name": "#%% md\n"
    }
   }
  },
  {
   "cell_type": "code",
   "execution_count": 11,
   "outputs": [],
   "source": [
    "def cost_Ein(X, Y, w , b, lr):\n",
    "    # Forward propagation (from x to J)\n",
    "    _,m = X.shape\n",
    "    #print(X.shape)\n",
    "    # We can transpose simply changing ij by ji ..\n",
    "    hypothesis = np.einsum('ji,jk->ik',w,X)+b\n",
    "    # compute activation\n",
    "    A = sigmoid(hypothesis)\n",
    "    #print(A)\n",
    "    # loss\n",
    "    loss=(Y*np.log(A)+(1.-Y)*np.log(1.-A))\n",
    "    #print(loss)\n",
    "    gradient = np.einsum('ij, ij -> ', loss, X)/m\n",
    "    #print(gradient)\n",
    "    w = w - lr*gradient\n",
    "    # compute cost\n",
    "    cost1 = -1/m  *  np.einsum('ij->',loss)     #\n",
    "    return cost1, w"
   ],
   "metadata": {
    "collapsed": false,
    "pycharm": {
     "name": "#%%\n"
    }
   }
  },
  {
   "cell_type": "code",
   "execution_count": 12,
   "outputs": [],
   "source": [
    "# -- Einstein Sum:\n",
    "def opt_Ein(X, Y, w, b, lr, epochs):\n",
    "    _,m = X.shape\n",
    "    #print(X.shape)\n",
    "    errors = np.zeros(epochs)\n",
    "    for i in range(epochs):\n",
    "        errors[i], upd_w = cost_Ein(X, Y, w, b, lr)\n",
    "        w = upd_w\n",
    "    return w, errors"
   ],
   "metadata": {
    "collapsed": false,
    "pycharm": {
     "name": "#%%\n"
    }
   }
  },
  {
   "cell_type": "code",
   "execution_count": 13,
   "outputs": [],
   "source": [
    "## -- Classical:\n",
    "def opt_Class(X, Y, w, b, lr, epochs):\n",
    "    _,m = X.shape\n",
    "    errors = np.zeros(epochs)\n",
    "    for i in range(epochs):\n",
    "        errors[i], upd_w = cost_Class(X, Y, w, b, lr)\n",
    "        w = upd_w\n",
    "    return w, errors"
   ],
   "metadata": {
    "collapsed": false,
    "pycharm": {
     "name": "#%%\n"
    }
   }
  },
  {
   "cell_type": "code",
   "execution_count": 14,
   "outputs": [
    {
     "name": "stdout",
     "output_type": "stream",
     "text": [
      "542 µs ± 67.9 µs per loop (mean ± std. dev. of 7 runs, 1000 loops each)\n"
     ]
    }
   ],
   "source": [
    "%timeit cost_Ein(xT, yT, w, b, 0.001)"
   ],
   "metadata": {
    "collapsed": false,
    "pycharm": {
     "name": "#%%\n"
    }
   }
  },
  {
   "cell_type": "code",
   "execution_count": 15,
   "outputs": [
    {
     "name": "stdout",
     "output_type": "stream",
     "text": [
      "456 µs ± 24.8 µs per loop (mean ± std. dev. of 7 runs, 1000 loops each)\n"
     ]
    }
   ],
   "source": [
    "%timeit cost_Class(xT, yT, w, b, 0.001)"
   ],
   "metadata": {
    "collapsed": false,
    "pycharm": {
     "name": "#%%\n"
    }
   }
  },
  {
   "cell_type": "code",
   "execution_count": 16,
   "outputs": [
    {
     "name": "stdout",
     "output_type": "stream",
     "text": [
      "Cost = (66.57731034801915, array([[ 1.64403522],\n",
      "       [-0.59206656],\n",
      "       [-0.5084819 ],\n",
      "       [-1.05327877],\n",
      "       [ 0.88509749],\n",
      "       [-2.28184884],\n",
      "       [ 1.76450162],\n",
      "       [-0.74151704],\n",
      "       [ 0.33872895],\n",
      "       [-0.22968052],\n",
      "       [ 1.48179779],\n",
      "       [-2.04045085],\n",
      "       [-0.30272735],\n",
      "       [-0.3643645 ],\n",
      "       [ 1.1534593 ],\n",
      "       [-1.08020141],\n",
      "       [-0.15273835],\n",
      "       [-0.85816856],\n",
      "       [ 0.0619036 ],\n",
      "       [ 0.60250507]]))\n"
     ]
    }
   ],
   "source": [
    "Jx_Ein=cost_Ein(xT, yT, w, b, 0.001)\n",
    "print (\"Cost = \" + str(Jx_Ein))"
   ],
   "metadata": {
    "collapsed": false,
    "pycharm": {
     "name": "#%%\n"
    }
   }
  },
  {
   "cell_type": "code",
   "execution_count": 17,
   "outputs": [
    {
     "name": "stdout",
     "output_type": "stream",
     "text": [
      "Cost = (array([66.57731035]), array([[ 1.64403522],\n",
      "       [-0.59206656],\n",
      "       [-0.5084819 ],\n",
      "       [-1.05327877],\n",
      "       [ 0.88509749],\n",
      "       [-2.28184884],\n",
      "       [ 1.76450162],\n",
      "       [-0.74151704],\n",
      "       [ 0.33872895],\n",
      "       [-0.22968052],\n",
      "       [ 1.48179779],\n",
      "       [-2.04045085],\n",
      "       [-0.30272735],\n",
      "       [-0.3643645 ],\n",
      "       [ 1.1534593 ],\n",
      "       [-1.08020141],\n",
      "       [-0.15273835],\n",
      "       [-0.85816856],\n",
      "       [ 0.0619036 ],\n",
      "       [ 0.60250507]]))\n"
     ]
    }
   ],
   "source": [
    "Jx_Class=cost_Class(xT, yT, w, b, 0.001)\n",
    "print (\"Cost = \" + str(Jx_Class))"
   ],
   "metadata": {
    "collapsed": false,
    "pycharm": {
     "name": "#%%\n"
    }
   }
  },
  {
   "cell_type": "code",
   "execution_count": 18,
   "outputs": [
    {
     "name": "stdout",
     "output_type": "stream",
     "text": [
      "538 ms ± 63.8 ms per loop (mean ± std. dev. of 7 runs, 1 loop each)\n"
     ]
    }
   ],
   "source": [
    "%timeit opt_Ein(xT, yT, w, b, 0.001, 1000)"
   ],
   "metadata": {
    "collapsed": false,
    "pycharm": {
     "name": "#%%\n"
    }
   }
  },
  {
   "cell_type": "code",
   "execution_count": 21,
   "outputs": [
    {
     "name": "stdout",
     "output_type": "stream",
     "text": [
      "393 ms ± 2.17 ms per loop (mean ± std. dev. of 7 runs, 1 loop each)\n"
     ]
    }
   ],
   "source": [
    "%timeit opt_Class(xT, yT, w, b, 0.001, 1000)"
   ],
   "metadata": {
    "collapsed": false,
    "pycharm": {
     "name": "#%%\n"
    }
   }
  },
  {
   "cell_type": "code",
   "execution_count": 22,
   "outputs": [],
   "source": [
    "#### -----\n",
    "def putStyle(sFont,syT,top1,R1):\n",
    "    import matplotlib as mpl\n",
    "    import matplotlib.style as style\n",
    "    style.available\n",
    "\n",
    "    # General plot parameters\n",
    "    mpl.rcParams['font.family'] = 'Avenir'\n",
    "    mpl.rcParams['font.size'] = sFont\n",
    "    mpl.rcParams['axes.linewidth'] = 4\n",
    "    mpl.rcParams['axes.spines.bottom'] = top1\n",
    "    mpl.rcParams['axes.spines.right'] = R1\n",
    "    mpl.rcParams['xtick.major.size'] = 10\n",
    "    mpl.rcParams['xtick.major.width'] = 2\n",
    "    mpl.rcParams['ytick.major.size'] = 10\n",
    "    mpl.rcParams['ytick.major.width'] = syT\n",
    "    mpl.rcParams['lines.linewidth']= 3\n",
    "    mpl.rcParams[\"figure.figsize\"] = (8,8)"
   ],
   "metadata": {
    "collapsed": false,
    "pycharm": {
     "name": "#%%\n"
    }
   }
  },
  {
   "cell_type": "code",
   "execution_count": 23,
   "outputs": [
    {
     "data": {
      "text/plain": "<Figure size 576x576 with 1 Axes>",
      "image/png": "[encoded data removed]"
     },
     "metadata": {
      "needs_background": "light"
     },
     "output_type": "display_data"
    }
   ],
   "source": [
    "## --- Style --\n",
    "putStyle(14,2,True,True)\n",
    "\n",
    "thetasEin, errorsEin = opt_Ein(xT, yT, w, b, lr=0.001, epochs=100)\n",
    "plt.plot(errorsEin)\n",
    "plt.title('With Einstein')\n",
    "plt.xlabel('Epochs')\n",
    "plt.ylabel('Cost')\n",
    "#plt.savefig('plot_Ein_v1.png')"
   ],
   "metadata": {
    "collapsed": false,
    "pycharm": {
     "name": "#%%\n"
    }
   }
  },
  {
   "cell_type": "code",
   "execution_count": 24,
   "outputs": [
    {
     "data": {
      "text/plain": "<Figure size 576x576 with 1 Axes>",
      "image/png": "[encoded data removed]"
     },
     "metadata": {
      "needs_background": "light"
     },
     "output_type": "display_data"
    }
   ],
   "source": [
    "## --- Style --\n",
    "putStyle(14,2,True,True)\n",
    "\n",
    "thetasClass, errorsClass = opt_Class(xT, yT, w, b, lr=0.001, epochs=100)\n",
    "plt.plot(errorsClass)\n",
    "plt.title('Classically')\n",
    "plt.xlabel('Epochs')\n",
    "plt.ylabel('Cost')\n",
    "#plt.savefig('plot_Class_v1.png')"
   ],
   "metadata": {
    "collapsed": false,
    "pycharm": {
     "name": "#%%\n"
    }
   }
  }
 ],
 "metadata": {
  "kernelspec": {
   "name": "vaetf1env",
   "language": "python",
   "display_name": "vaetf1env"
  },
  "language_info": {
   "codemirror_mode": {
    "name": "ipython",
    "version": 2
   },
   "file_extension": ".py",
   "mimetype": "text/x-python",
   "name": "python",
   "nbconvert_exporter": "python",
   "pygments_lexer": "ipython2",
   "version": "2.7.6"
  }
 },
 "nbformat": 4,
 "nbformat_minor": 0
}